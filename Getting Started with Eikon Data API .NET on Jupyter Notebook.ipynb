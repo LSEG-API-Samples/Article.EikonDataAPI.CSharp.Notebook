{
 "cells": [
  {
   "cell_type": "markdown",
   "metadata": {},
   "source": [
    "# Getting Started with Eikon Data API .NET in Jupyter Notebook\n",
    "\n",
    "The Eikon Data API provides simple access to users who require programmatic access to Refinitiv data on the desktop. These APIs are intended for Eikon users.\n",
    "\n",
    "The APIs provide access to the following content sets:\n",
    "\n",
    "- Fundamental and reference data\n",
    "- Price time series\n",
    "- News\n",
    "- Symbology conversion\n",
    "\n",
    "This article will explain how to install and use the .NET library for Eikon Data API in Jupyter Notebook.\n",
    "\n",
    "Note: This library is open-source, community-owned, and not officially supported by Refinitiv.\n",
    "\n",
    "## Prerequisite\n",
    "\n",
    "To run examples in this article, please refer to this [Using .NET Core in Jupyter Notebook](https://developers.refinitiv.com/en/article-catalog/article/using--net-core-in-jupyter-notebook.html) article for setting up Jupyter Notebook to support the .NET programming languages\n",
    "\n",
    "## Install the packages\n",
    "\n",
    "The [Eikon Data API](https://www.nuget.org/packages/EikonDataAPI/) package is available in Nuget so the dotnet-interactive **#r** [magic command](https://github.com/dotnet/interactive/blob/main/docs/magic-commands.md) can be used to install the package from NuGet. \n",
    "\n",
    "Run the below commands to install **Eikon Data API** and **Microsoft.Data.Analysis (0.4.0)** packages.\n"
   ]
  },
  {
   "cell_type": "code",
   "execution_count": null,
   "metadata": {},
   "outputs": [],
   "source": [
    "#r \"nuget:EikonDataAPI\"\n",
    "#r \"nuget:Microsoft.Data.Analysis,0.4.0\""
   ]
  },
  {
   "cell_type": "markdown",
   "metadata": {},
   "source": [
    "## Refer the namespaces\n",
    "\n",
    "This article uses classes from the following four packages. Therefore, it uses the **using** statement to refer to those packages.\n",
    "\n",
    "- **EikonDataAPI**: .NET library for Eikon Data API\n",
    "- **XPlot.Plotly**: A cross-platform data visualization package for the F# and .NET programming languages\n",
    "- **Microsoft.Data.Analysis**: An easy-to-use and high-performance libraries for data analysis and transformation\n",
    "- **Microsoft.AspNetCore.Html**:  Types for manipulating HTML content"
   ]
  },
  {
   "cell_type": "code",
   "execution_count": null,
   "metadata": {},
   "outputs": [],
   "source": [
    "using EikonDataAPI;\n",
    "using XPlot.Plotly;\n",
    "using Microsoft.Data.Analysis;\n",
    "using Microsoft.AspNetCore.Html;"
   ]
  },
  {
   "cell_type": "markdown",
   "metadata": {},
   "source": [
    "## Render a DataFrame as an HTML table\n",
    "By default, a DataFrame is rendered as an HTML table with one row and two columns (Columns and Rows).\n",
    "\n",
    "![](Dataframe1.png)\n",
    "\n",
    "This can be overridden by registering the custom formatter for the DataFrame. The below code registers custom formatters for the **Dataframe** and **DataFrameRow** to render the data in an HTML table. \n",
    "\n",
    "![](Dataframe2.png)\n",
    "\n",
    "It only displays the first 100 rows. This can be changed by modifying the value of the **take** variable. "
   ]
  },
  {
   "cell_type": "code",
   "execution_count": null,
   "metadata": {},
   "outputs": [],
   "source": [
    "Formatter<DataFrame>.Register((df, writer) =>\n",
    "{\n",
    "    var headers = new List<IHtmlContent>();\n",
    "    headers.Add(th(i(\"index\")));\n",
    "    headers.AddRange(df.Columns.Select(c => (IHtmlContent) th(c.Name)));\n",
    "    var rows = new List<List<IHtmlContent>>();\n",
    "    var take = 100;\n",
    "    for (var i = 0; i < Math.Min(take, df.Rows.Count); i++)\n",
    "    {\n",
    "        var cells = new List<IHtmlContent>();\n",
    "        cells.Add(td(i));\n",
    "        foreach (var obj in df.Rows[i])\n",
    "        {\n",
    "            cells.Add(td(obj));\n",
    "        }\n",
    "        rows.Add(cells);\n",
    "    }\n",
    "\n",
    "    var t = table(\n",
    "        thead(\n",
    "            headers),\n",
    "        tbody(\n",
    "            rows.Select(\n",
    "                r => tr(r))));\n",
    "\n",
    "    writer.Write(t);    \n",
    "    writer.Write(df.Rows.Count + \" x \"+df.Columns.Count);\n",
    "}, \"text/html\");\n",
    "\n",
    "Formatter<DataFrameRow>.Register((dataFrameRow, writer) =>\n",
    "{\n",
    "    var cells = new List<IHtmlContent>();\n",
    "    cells.Add(td(i));\n",
    "    foreach (var obj in dataFrameRow)\n",
    "    {\n",
    "        cells.Add(td(obj));\n",
    "    }\n",
    "\n",
    "    var t = table(\n",
    "        tbody(\n",
    "            cells));\n",
    "\n",
    "    writer.Write(t);\n",
    "}, \"text/html\");\n"
   ]
  },
  {
   "cell_type": "markdown",
   "metadata": {},
   "source": [
    "## Create Eikon Interface\n",
    "After installing EikonDataAPI, the application can use the API by calling the **Eikon.CreateDataAPI()** static method to create an Eikon interface. This interface is an access point to all functionalities in Eikon Data APIs.\n",
    "\n",
    "Then, the first method that must be called with the Eikon interface is **Eikon.SetAppKey()**. This method accepts one string argument that represents the application ID. The application ID identifies your application on Refinitiv Platform. You can get an application ID using the Application ID generator. For more information, please refer to the QuickStart guide."
   ]
  },
  {
   "cell_type": "code",
   "execution_count": null,
   "metadata": {},
   "outputs": [],
   "source": [
    "IEikon eikon = Eikon.CreateDataAPI();\n",
    "eikon.SetAppKey(\"<Application Key>\");"
   ]
  },
  {
   "cell_type": "markdown",
   "metadata": {},
   "source": [
    "## Fundamental and reference data\n",
    "\n",
    "The GetData() methods can be used to retrieve fundamental and reference data. These methods have three parameters.\n",
    "\n",
    "|Name|Type|Description|\n",
    "|:----|:----|:-----------|\n",
    "|instrument(s)|string, or list of string|**Required:** Single instrument or list of instruments to request.|\n",
    "|fields|string, list of string, or list of TRField|**Required:** A single field as a string, such as 'TR.PriceClose'<br><br> A list of fields, such as<br> new List { \"TR.TotalReturn.Date\", \"TR.TotalReturn\" }<br><br>A list of TRFields, such as <br>new List {eikon.TRField(\"TR.TotalReturn.Date\"), eikon.TRField(\"TR.TotalReturn\") }|\n",
    "|parameters|dictionary|**Optional:** Dictionary of global parameters to request, such as new Dictionary { { \"SDate\", \"2020-10-23\"},{\"EDate\",\"2020-11-29\" },{\"Frq\",\"D\"},{\"CH\",\"Fd\" },{\"RH\",\"IN\" } }|\n",
    "\n",
    "\n",
    "The following code retrieves fundamental data - Revenue and Gross Profit - for Google, Microsoft, and Facebook.\n"
   ]
  },
  {
   "cell_type": "code",
   "execution_count": null,
   "metadata": {},
   "outputs": [],
   "source": [
    "List<string> instruments = new List<string> {\n",
    "   \"GOOG.O\",\n",
    "   \"MSFT.O\",\n",
    "   \"FB.O\"\n",
    "}; \n",
    "\n",
    "List<string> fields = new List<string> {\n",
    "    \"TR.Revenue\",\n",
    "    \"TR.GrossProfit\"\n",
    "};               \n",
    "\n",
    "var data = eikon.GetData(\n",
    "    instruments,\n",
    "    fields\n",
    "\n",
    "    );\n",
    "data"
   ]
  },
  {
   "cell_type": "markdown",
   "metadata": {},
   "source": [
    "The additional parameters can be specified to request full year revenue and gross profit for the last 2 years scaled to millions and converted to Euros."
   ]
  },
  {
   "cell_type": "code",
   "execution_count": null,
   "metadata": {},
   "outputs": [],
   "source": [
    "List<string> instruments = new List<string> {\n",
    "    \"GOOG.O\",\n",
    "    \"MSFT.O\",\n",
    "    \"FB.O\",\n",
    "    \"AMZN.O\",\n",
    "    \"TWTR.K\"\n",
    "};\n",
    "\n",
    "\n",
    "List<string> fields = new List<string> {\n",
    "    \"TR.Revenue.date\",\n",
    "    \"TR.Revenue\",\n",
    "    \"TR.GrossProfit\"\n",
    "};\n",
    "\n",
    "\n",
    "Dictionary<string, string> parameters = new Dictionary<string, string> {\n",
    "    { \"Scale\", \"6\" },\n",
    "    { \"SDate\", \"0\" },\n",
    "    { \"EDate\",\"-2\"},\n",
    "    { \"FRQ\",\"FY\" },\n",
    "    { \"Curn\",\"EUR\" }\n",
    "};\n",
    "\n",
    " \n",
    "var data = eikon.GetData(\n",
    "    instruments,\n",
    "    fields,\n",
    "    parameters\n",
    "    );\n",
    "\n",
    "data"
   ]
  },
  {
   "cell_type": "markdown",
   "metadata": {},
   "source": [
    "## Time Series Data\n",
    "The GetTimeSeries() methods can be used to retrieve historical data on one or several RICs. These methods have eight parameters.\n",
    "\n",
    "|Name|Type|Description|\n",
    "|:---|:---|:----------|\n",
    "|ric(s)|string or list of strings|**Required**: Single RIC or List of RICs to retrieve historical data for|\n",
    "|startDate|string or DateTime|**Required**: Starting date and time of the historical range. String format is \"yyyy-MM-dd\", \"yyyy-MM-ddTHH:mm:ss\", \"yyyy-MM-ddTHH:mm:sszzz\", or \"yyyy-MM-ddTHH:mm:ssZ\"|\n",
    "|endDate|string or DateTime|**Required**: End date and time of the historical range. String format is \"yyyy-MM-dd\", \"yyyy-MM-ddTHH:mm:ss\", \"yyyy-MM-ddTHH:mm:sszzz\", or \"yyyy-MM-ddTHH:mm:ssZ\"|\n",
    "|interval|Interval enumeration|**Optional**: Data interval. Possible values: tick, minute, hour, daily, weekly, monthly, quarterly, yearly (Default: daily)|\n",
    "|fields|List of TimeSeriesField enumerations|**Optional**: Use this parameter to filter the returned fields set. Available fields: TIMESTAMP, VALUE, VOLUME, HIGH, LOW, OPEN, CLOSE, COUNT. By default, all fields are returned|\n",
    "|count|integer|**Optional**: Max number of data points retrieved|\n",
    "|calendar|Calendar enumeration|**Optional**: Possible values: native, tradingdays, calendardays|\n",
    "|Corax|Corax enumeration|**Optional**: Possible values: adjusted, unadjusted|\n",
    "\n",
    "The following code returns time series of daily price history for Microsoft Corp ordinary share between 1st of Jan and 10th of April 2021."
   ]
  },
  {
   "cell_type": "code",
   "execution_count": null,
   "metadata": {},
   "outputs": [],
   "source": [
    "var historicalData = eikon.GetTimeSeries(\n",
    "    \"MSFT.O\",                  //a single RIC to retrieve historical data for\n",
    "    new DateTime(2021, 1, 1),  //starting date of the historical range\n",
    "    new DateTime(2021, 4, 10)  //end date of the historical range\n",
    "    );\n",
    "historicalData"
   ]
  },
  {
   "cell_type": "markdown",
   "metadata": {},
   "source": [
    "## News Headlines and Stories\n",
    "The GetNewsHeadlines() methods can be used to get a list of news headlines. These methods have four parameters.\n",
    "\n",
    "|Name|Type|Description|\n",
    "|:---|:---|:----------|\n",
    "|query|string|**Optional**: News headlines search criteria. The text can contain RIC codes, company names, country names and operators (AND, OR, NOT, IN, parentheses and quotes for explicit search…).<br>(Default: Top News written in English)|\n",
    "|count|integer|**Optional**: Max number of headlines retrieved. Value Range: [1-100]. (Default: 10)|\n",
    "|dateFrom|string or DateTime|**Optional**: Beginning of date range. String format is \"yyyy-MM-dd\", \"yyyy-MM-ddTHH:mm:ss\", \"yyyy-MM-ddTHH:mm:sszzz\", or \"yyyy-MM-ddTHH:mm:ssZ\"|\n",
    "|dateTo|string or DateTime|**Optional**: End of date range. String format is \"yyyy-MM-dd\", \"yyyy-MM-ddTHH:mm:ss\", \"yyyy-MM-ddTHH:mm:sszzz\", or \"yyyy-MM-ddTHH:mm:ssZ\"|\n",
    "\n",
    "The following code retrieves news headlines of International Business Machines Corp\n",
    " (an equity RIC: IBM.N), between 00:00 and 23:59 GMT on the 7th of Apr 2020."
   ]
  },
  {
   "cell_type": "code",
   "execution_count": null,
   "metadata": {},
   "outputs": [],
   "source": [
    "var headlines = eikon.GetNewsHeadlines(\n",
    "    \"R:IBM.N\",             //Retrieve news headlines related to LHAG.DE\n",
    "    null,                    //count parameter is null so it will use the default value which is 10\n",
    "    \"2020-04-07T00:00:00Z\",  //Beginning of date range\n",
    "    \"2020-04-07T23:59:59Z\"   //End of date range\n",
    "    );\n",
    "headlines"
   ]
  },
  {
   "cell_type": "markdown",
   "metadata": {},
   "source": [
    "Then, the **GetNewsStory()** method can be used to retrieve a single news story corresponding to the identifier provided in **StoryId**. This method has one parameter.\n",
    "\n",
    "|Name|Type|Description|\n",
    "|:---|:---|:----------|\n",
    "|storyId|string|**Required**: The story Id of the news story|\n",
    "\n",
    "This method returns a string of story text.\n",
    "\n",
    "The following code retrieves the news story of the first retrieved news headline."
   ]
  },
  {
   "cell_type": "code",
   "execution_count": null,
   "metadata": {},
   "outputs": [],
   "source": [
    "string storyId = headlines.Columns[\"StoryId\"][0].ToString(); //Get the StoryId of the first headline\n",
    "display(HTML(eikon.GetNewsStory(storyId)))   \n"
   ]
  },
  {
   "cell_type": "markdown",
   "metadata": {},
   "source": [
    "## Symbology conversion\n",
    "The **GetSymbology()** methods can be used to get a list of instrument names converted into another instrument code, such as converting SEDOL instrument names to RIC names. These methods have four parameters.\n",
    "\n",
    "|Name|Type|Description|\n",
    "|:---|:---|:----------|\n",
    "|symbol(s)|string or list of strings|**Required**: Single instrument or list of instruments to convert|\n",
    "|fromSymbolType|SymbologyType enumeration|**Optional**: Instrument code to convert from. Possible values: RIC,ISIN,CUSIP,SEDOL,ticker,lipperID,OAPermID,or IMO (Default: RIC)|\n",
    "|toSymbolType|List of SymbologyType enumeration|**Optional**: List of instrument code to convert to. Possible values: RIC,ISIN,CUSIP,SEDOL,ticker,lipperID,OAPermID,or IMO|\n",
    "|bestMatch|boolean|**Optional**: Defines whether \"bestMatch\" section only is required. (Default: true)|\n",
    "\n",
    "The following code converts RICs to ISINs and tickers and returns only best match."
   ]
  },
  {
   "cell_type": "code",
   "execution_count": null,
   "metadata": {},
   "outputs": [],
   "source": [
    "List<string> instruments = new List<string> {\n",
    "    \"MSFT.O\",\n",
    "    \"GOOG.O\",\n",
    "    \"IBM.N\"\n",
    "};\n",
    "\n",
    "List<SymbologyType> toSymbolType = new List<SymbologyType> {\n",
    "    SymbologyType.ticker,\n",
    "    SymbologyType.ISIN\n",
    "\n",
    "};\n",
    "\n",
    "var responseSymbol = eikon.GetSymbology(\n",
    "    instruments,\n",
    "    SymbologyType.RIC, \n",
    "    toSymbolType\n",
    "    );\n",
    "responseSymbol"
   ]
  },
  {
   "cell_type": "markdown",
   "metadata": {},
   "source": [
    "## Plot charts by using XPlot.Ploty\n",
    "\n",
    "XPlot.Ploty is a cross-platform data visualization package for the F# and .NET programming languages. It is based on Plotly which is the popular JavaScript charting library.\n",
    "\n",
    "The following examples demonstrate how to use XPlot.Ploty to plot charts from historical data retrieved by Eikon Data API. \n",
    "\n",
    "### Line chart\n",
    "\n",
    "The following code plots a line chart from the **CLOSE** column in the DataFrame reteived from the **GetTimeSeries()** mothod."
   ]
  },
  {
   "cell_type": "code",
   "execution_count": null,
   "metadata": {},
   "outputs": [],
   "source": [
    "var chart1 = Chart.Plot(\n",
    "    new Graph.Scatter\n",
    "    {\n",
    "        x = historicalData.Columns[\"TIMESTAMP\"],\n",
    "        y = historicalData.Columns[\"CLOSE\"],        \n",
    "        mode = \"lines+markers\"\n",
    "    }\n",
    ");\n",
    "var chart1_layout = new Layout.Layout{\n",
    "    title=\"Close Price (MSFT.O)\",\n",
    "    xaxis =new Graph.Xaxis{\n",
    "        title = \"Date\"\n",
    "        },\n",
    "    yaxis =new Graph.Yaxis{\n",
    "    title = \"Price (USD)\"\n",
    "        }           \n",
    "    };\n",
    "chart1.WithLayout(chart1_layout);\n",
    "chart1"
   ]
  },
  {
   "cell_type": "markdown",
   "metadata": {},
   "source": [
    "### Bar Chart\n",
    "\n",
    "The following code plots a bar chart from the **VOLUME** column in the DataFrame reteived from the **GetTimeSeries()** mothod."
   ]
  },
  {
   "cell_type": "code",
   "execution_count": null,
   "metadata": {},
   "outputs": [],
   "source": [
    "var chart2 = Chart.Plot(\n",
    "    new Graph.Bar\n",
    "    {\n",
    "        x = historicalData.Columns[\"TIMESTAMP\"],\n",
    "        y = historicalData.Columns[\"VOLUME\"],        \n",
    "        marker = new Graph.Marker{color = \"rgb(0, 0, 109)\"}\n",
    "    }\n",
    ");\n",
    "var chart2_layout = new Layout.Layout{\n",
    "    title=\"Volume (MSFT.O)\",\n",
    "    xaxis =new Graph.Xaxis{\n",
    "        title = \"Date\"\n",
    "        },\n",
    "    yaxis =new Graph.Yaxis{\n",
    "    title = \"Unit\"\n",
    "        }           \n",
    "    };\n",
    "chart2.WithLayout(chart2_layout);\n",
    "chart2"
   ]
  },
  {
   "cell_type": "markdown",
   "metadata": {},
   "source": [
    "### Candlestick Chart\n",
    "\n",
    "The following code plots a candlestick chart from the **OPEN**, **HIGH**, **LOW**, **CLOSE** columns in the DataFrame retrieved  from the **GetTimeSeries()** method."
   ]
  },
  {
   "cell_type": "code",
   "execution_count": null,
   "metadata": {},
   "outputs": [],
   "source": [
    "var chart3 = Chart.Candlestick(historicalData.OrderBy(\"TIMESTAMP\").Rows.Select(row => new Tuple<string, double, double, double, double>(\n",
    "                 ((DateTime)row[1]).ToString(\"yyyy-MM-dd\"),\n",
    "                 double.Parse(row[5].ToString()), //OPEN\n",
    "                 double.Parse(row[2].ToString()), //HIGH\n",
    "                 double.Parse(row[4].ToString()), //LOW\n",
    "                 double.Parse(row[3].ToString()) //CLOSE\n",
    "                )));\n",
    "chart3.WithLayout(new Layout.Layout{\n",
    "    title=\"OHLC (MSFT.O)\",\n",
    "    xaxis =new Graph.Xaxis{\n",
    "        title = \"Date\"\n",
    "        },\n",
    "    yaxis =new Graph.Yaxis{\n",
    "    title = \"Price (USD)\"\n",
    "        }           \n",
    "    });\n",
    "chart3"
   ]
  },
  {
   "cell_type": "markdown",
   "metadata": {},
   "source": [
    "## Summary\n",
    "\n",
    "Eikon Data API .NET library is available in [Nuget](https://www.nuget.org/packages/EikonDataAPI/) which supports .NET Framework, and .NET core. It provides access to the following content sets through Refinitv desktop products:\n",
    "\n",
    "- Fundamental and reference data\n",
    "- Price time series\n",
    "- News\n",
    "- Symbology conversion\n",
    "\n",
    "This article demonstrates how to install and use this library in Jupyter Notebook. It also uses the [XPlot.Plotly](https://fslab.org/XPlot//index.html) package which is F# data visualization package to plot charts for the data in the Dataframe. "
   ]
  },
  {
   "cell_type": "markdown",
   "metadata": {},
   "source": [
    "## References\n",
    "1. Fslab.org. n.d. XPlot - F# Data Visualization Package. [online] Available at: https://fslab.org/XPlot/index.html [Accessed 6 May 2021].\n",
    "2. Phuriphanvichai, J., 2018. .NET Libraries for Eikon Data APIs Quick Start | Refinitiv Developers. [online] Developers.refinitiv.com. Available at: <https://developers.refinitiv.com/en/article-catalog/article/net-libraries-eikon-data-apis-quick-start> [Accessed 10 May 2021].\n",
    "3. Sequeira, J., 2020. dotnet/interactive: Magic Commands. [online] GitHub. Available at: https://github.com/dotnet/interactive/blob/main/docs/magic-commands.md [Accessed 6 May 2021].\n",
    "4. Phuriphanvichai, J., 2021. Using .NET Core in Jupyter Notebook | Refinitiv Developers. [online] Developers.refinitiv.com. Available at: <https://developers.refinitiv.com/en/article-catalog/article/using--net-core-in-jupyter-notebook.html> [Accessed 10 May 2021].\n",
    "5. Phuriphanvichai, J., 2021. Getting started with C# DataFrame and XPlot.Ploty | Refinitiv Developers. [online] Developers.refinitiv.com. Available at: <https://developers.refinitiv.com/en/article-catalog/article/getting-started-with-c--dataframe-and-xplot-ploty.html> [Accessed 10 May 2021].\n"
   ]
  },
  {
   "cell_type": "code",
   "execution_count": null,
   "metadata": {},
   "outputs": [],
   "source": []
  }
 ],
 "metadata": {
  "kernelspec": {
   "display_name": ".NET (C#)",
   "language": "C#",
   "name": ".net-csharp"
  },
  "language_info": {
   "file_extension": ".cs",
   "mimetype": "text/x-csharp",
   "name": "C#",
   "pygments_lexer": "csharp",
   "version": "8.0"
  }
 },
 "nbformat": 4,
 "nbformat_minor": 4
}
